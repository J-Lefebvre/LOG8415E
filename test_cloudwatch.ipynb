{
 "cells": [
  {
   "cell_type": "code",
   "execution_count": 14,
   "outputs": [],
   "source": [
    "import boto3\n",
    "import datetime"
   ],
   "metadata": {
    "collapsed": false
   }
  },
  {
   "cell_type": "code",
   "execution_count": 15,
   "outputs": [],
   "source": [
    "client = boto3.client('cloudwatch')"
   ],
   "metadata": {
    "collapsed": false
   }
  },
  {
   "cell_type": "code",
   "execution_count": 16,
   "outputs": [],
   "source": [
    "metrics = [m for m in client.list_metrics()['Metrics'] if m['MetricName'] == 'RequestCount']"
   ],
   "metadata": {
    "collapsed": false
   }
  },
  {
   "cell_type": "code",
   "execution_count": 21,
   "outputs": [],
   "source": [
    "def call_query(metric):\n",
    "    query_example = {\n",
    "        'Id': 'test_metric',\n",
    "        'MetricStat': {\n",
    "            'Stat': 'Sum',\n",
    "            'Unit': 'Count',\n",
    "            'Period': 60,\n",
    "            'Metric': metric,\n",
    "            # 'Metric': {\n",
    "            #     'Namespace': 'AWS/ApplicationELB',\n",
    "            #     'MetricName': 'RequestCount',\n",
    "            #     'Dimensions': [\n",
    "            #         {\n",
    "            #             'Name': 'LoadBalancer',\n",
    "            #             'Value': 'app/DefaultLoadBalancer/e9198100f930611e'\n",
    "            #         },\n",
    "            #         {\n",
    "            #             'Name': 'AvailabilityZone',\n",
    "            #             'Value': 'us-east-1c'\n",
    "            #         }\n",
    "            #     ]\n",
    "            # }\n",
    "        }\n",
    "    }\n",
    "\n",
    "    metric_query = [query_example]\n",
    "    start_time = datetime.datetime(2021, 1, 1)\n",
    "    end_time = datetime.datetime(2023, 1, 1)\n",
    "    return client.get_metric_data(MetricDataQueries=metric_query, StartTime=start_time, EndTime=end_time)\n",
    "\n",
    "\n",
    "# max_time = datetime.datetime(2020, 1, 1).timestamp()\n",
    "metrics_res = []\n",
    "for metric in metrics:\n",
    "    metric_res = call_query(metric)['MetricDataResults'][0]\n",
    "    metrics_res.append(metric_res)\n",
    "\n"
   ],
   "metadata": {
    "collapsed": false
   }
  },
  {
   "cell_type": "code",
   "execution_count": 22,
   "outputs": [
    {
     "data": {
      "text/plain": "[{'Id': 'test_metric',\n  'Label': 'RequestCount',\n  'Timestamps': [],\n  'Values': [],\n  'StatusCode': 'PartialData'},\n {'Id': 'test_metric',\n  'Label': 'RequestCount',\n  'Timestamps': [],\n  'Values': [],\n  'StatusCode': 'PartialData'},\n {'Id': 'test_metric',\n  'Label': 'RequestCount',\n  'Timestamps': [],\n  'Values': [],\n  'StatusCode': 'PartialData'},\n {'Id': 'test_metric',\n  'Label': 'RequestCount',\n  'Timestamps': [],\n  'Values': [],\n  'StatusCode': 'PartialData'},\n {'Id': 'test_metric',\n  'Label': 'RequestCount',\n  'Timestamps': [],\n  'Values': [],\n  'StatusCode': 'PartialData'},\n {'Id': 'test_metric',\n  'Label': 'RequestCount',\n  'Timestamps': [],\n  'Values': [],\n  'StatusCode': 'PartialData'},\n {'Id': 'test_metric',\n  'Label': 'RequestCount',\n  'Timestamps': [],\n  'Values': [],\n  'StatusCode': 'PartialData'},\n {'Id': 'test_metric',\n  'Label': 'RequestCount',\n  'Timestamps': [],\n  'Values': [],\n  'StatusCode': 'PartialData'},\n {'Id': 'test_metric',\n  'Label': 'RequestCount',\n  'Timestamps': [],\n  'Values': [],\n  'StatusCode': 'PartialData'},\n {'Id': 'test_metric',\n  'Label': 'RequestCount',\n  'Timestamps': [],\n  'Values': [],\n  'StatusCode': 'PartialData'},\n {'Id': 'test_metric',\n  'Label': 'RequestCount',\n  'Timestamps': [],\n  'Values': [],\n  'StatusCode': 'PartialData'},\n {'Id': 'test_metric',\n  'Label': 'RequestCount',\n  'Timestamps': [],\n  'Values': [],\n  'StatusCode': 'PartialData'},\n {'Id': 'test_metric',\n  'Label': 'RequestCount',\n  'Timestamps': [],\n  'Values': [],\n  'StatusCode': 'PartialData'},\n {'Id': 'test_metric',\n  'Label': 'RequestCount',\n  'Timestamps': [],\n  'Values': [],\n  'StatusCode': 'PartialData'},\n {'Id': 'test_metric',\n  'Label': 'RequestCount',\n  'Timestamps': [],\n  'Values': [],\n  'StatusCode': 'PartialData'},\n {'Id': 'test_metric',\n  'Label': 'RequestCount',\n  'Timestamps': [],\n  'Values': [],\n  'StatusCode': 'PartialData'},\n {'Id': 'test_metric',\n  'Label': 'RequestCount',\n  'Timestamps': [],\n  'Values': [],\n  'StatusCode': 'PartialData'},\n {'Id': 'test_metric',\n  'Label': 'RequestCount',\n  'Timestamps': [],\n  'Values': [],\n  'StatusCode': 'PartialData'},\n {'Id': 'test_metric',\n  'Label': 'RequestCount',\n  'Timestamps': [],\n  'Values': [],\n  'StatusCode': 'PartialData'},\n {'Id': 'test_metric',\n  'Label': 'RequestCount',\n  'Timestamps': [],\n  'Values': [],\n  'StatusCode': 'PartialData'},\n {'Id': 'test_metric',\n  'Label': 'RequestCount',\n  'Timestamps': [],\n  'Values': [],\n  'StatusCode': 'PartialData'}]"
     },
     "execution_count": 22,
     "metadata": {},
     "output_type": "execute_result"
    }
   ],
   "source": [
    "metrics_res"
   ],
   "metadata": {
    "collapsed": false
   }
  },
  {
   "cell_type": "code",
   "execution_count": 23,
   "outputs": [
    {
     "data": {
      "text/plain": "[]"
     },
     "execution_count": 23,
     "metadata": {},
     "output_type": "execute_result"
    }
   ],
   "source": [
    "[m['Values'] for m in metrics_res if m['Values']]"
   ],
   "metadata": {
    "collapsed": false
   }
  },
  {
   "cell_type": "code",
   "execution_count": 24,
   "outputs": [
    {
     "data": {
      "text/plain": "[]"
     },
     "execution_count": 24,
     "metadata": {},
     "output_type": "execute_result"
    }
   ],
   "source": [
    "[{'sum_values': sum(m['Values']), 'timestamps': m['Timestamps']} for m in metrics_res if sum(m['Values']) != 0]"
   ],
   "metadata": {
    "collapsed": false
   }
  },
  {
   "cell_type": "code",
   "execution_count": 20,
   "outputs": [],
   "source": [],
   "metadata": {
    "collapsed": false
   }
  }
 ],
 "metadata": {
  "kernelspec": {
   "display_name": "Python 3",
   "language": "python",
   "name": "python3"
  },
  "language_info": {
   "codemirror_mode": {
    "name": "ipython",
    "version": 2
   },
   "file_extension": ".py",
   "mimetype": "text/x-python",
   "name": "python",
   "nbconvert_exporter": "python",
   "pygments_lexer": "ipython2",
   "version": "2.7.6"
  }
 },
 "nbformat": 4,
 "nbformat_minor": 0
}
